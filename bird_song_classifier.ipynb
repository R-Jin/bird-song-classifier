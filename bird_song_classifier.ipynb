{
  "nbformat": 4,
  "nbformat_minor": 0,
  "metadata": {
    "colab": {
      "provenance": [],
      "authorship_tag": "ABX9TyMavrepqqcniX9hTp35ngWY",
      "include_colab_link": true
    },
    "kernelspec": {
      "name": "python3",
      "display_name": "Python 3"
    },
    "language_info": {
      "name": "python"
    }
  },
  "cells": [
    {
      "cell_type": "markdown",
      "metadata": {
        "id": "view-in-github",
        "colab_type": "text"
      },
      "source": [
        "<a href=\"https://colab.research.google.com/github/R-Jin/bird-song-classifier/blob/main/bird_song_classifier.ipynb\" target=\"_parent\"><img src=\"https://colab.research.google.com/assets/colab-badge.svg\" alt=\"Open In Colab\"/></a>"
      ]
    },
    {
      "cell_type": "markdown",
      "source": [
        "# Prepare dataset location"
      ],
      "metadata": {
        "id": "KIPSI43ZErQo"
      }
    },
    {
      "cell_type": "code",
      "execution_count": 12,
      "metadata": {
        "colab": {
          "base_uri": "https://localhost:8080/"
        },
        "id": "MVsGjuCmEN5o",
        "outputId": "6a3129b9-6a4d-4c33-984e-a53d1b57f5cc"
      },
      "outputs": [
        {
          "output_type": "stream",
          "name": "stdout",
          "text": [
            "Mounted at /content/drive\n"
          ]
        }
      ],
      "source": [
        "from google.colab import drive\n",
        "\n",
        "# Mount Google Drive\n",
        "drive.flush_and_unmount()\n",
        "drive.mount('/content/drive')\n",
        "\n",
        "# Setup target directory\n",
        "target_dir = \"/content/drive/MyDrive/birdclef-2025\""
      ]
    },
    {
      "cell_type": "markdown",
      "source": [
        "# Imports"
      ],
      "metadata": {
        "id": "JKbn493nMJjD"
      }
    },
    {
      "cell_type": "code",
      "source": [
        "import pandas as pd\n",
        "from torch.utils.data import DataLoader, Dataset\n",
        "import torch\n",
        "import torchaudio\n",
        "import torch.nn as nn\n",
        "import torch.nn.functional as F\n",
        "import os\n",
        "import matplotlib.pyplot as plt\n",
        "import librosa.display"
      ],
      "metadata": {
        "id": "J0n1yhBPLzXP"
      },
      "execution_count": 13,
      "outputs": []
    },
    {
      "cell_type": "markdown",
      "source": [
        "# Constants"
      ],
      "metadata": {
        "id": "r8BJltcyOd7m"
      }
    },
    {
      "cell_type": "code",
      "source": [
        "BATCH_SIZE = 32\n",
        "\n",
        "SAMPLE_RATE = 32000"
      ],
      "metadata": {
        "id": "bep40MqxObKn"
      },
      "execution_count": 14,
      "outputs": []
    },
    {
      "cell_type": "markdown",
      "source": [
        "# Read dataset"
      ],
      "metadata": {
        "id": "0JMpHeHTOfSv"
      }
    },
    {
      "cell_type": "code",
      "source": [
        "train_df = pd.read_csv(\"/content/drive/MyDrive/birdclef-2025/train.csv\")\n",
        "\n",
        "unique_bird_species = train_df['primary_label'].nunique()\n",
        "unique_song_types = train_df['type'].nunique()\n",
        "\n",
        "print(f\"Number of unique bird species: {unique_bird_species}\")\n",
        "print(f\"Number of unique song types: {unique_song_types}\")"
      ],
      "metadata": {
        "colab": {
          "base_uri": "https://localhost:8080/"
        },
        "id": "qgsFYQi4MMLG",
        "outputId": "8dc77861-c01e-4b6e-bc55-ca98dc3cea85"
      },
      "execution_count": 4,
      "outputs": [
        {
          "output_type": "stream",
          "name": "stdout",
          "text": [
            "Number of unique bird species: 206\n",
            "Number of unique song types: 736\n"
          ]
        }
      ]
    },
    {
      "cell_type": "code",
      "source": [
        "unwanted_labels = [\n",
        "    'uncertain', 'frog', 'frogs', 'car', 'plane', 'wind', 'river', 'surf',\n",
        "    'motor', 'insect', 'noise', 'background', 'voices', 'human', 'dog',\n",
        "    'perro', 'cow', 'latido', 'engine', 'traffic', 'urban', 'música',\n",
        "    'music', 'unknown', 'no idea', '?', 'nao', 'não', 'environmental',\n",
        "    'ambient', 'dogs', 'bird in h', 'laughing', 'hits', 'chatter', 'mechanical', 'imitation',\n",
        "]\n",
        "\n",
        "canonical_labels = {\n",
        "    'song': ['song', 'songs', 'full song', 'complete song', 'alternate song', 'display song', 'morning song', 'evening song', 'day song', 'dawn song', 'vesper song', 'nuptial song', 'predawn song'],\n",
        "    'call': ['call', 'calls', 'typical call', 'short call', 'long call', 'flight call', 'begging call', 'alarm call', 'chase call', 'contact call', 'feeding call', 'distress call', 'display call', 'excited call', 'juvenile call'],\n",
        "    'alarm call': ['alarm call', 'alarm calls', 'alarm', 'alarm whistle', 'alarm call?', 'alarm call in flight'],\n",
        "    'flight call': ['flight call', 'calls in flight', 'call in flight', 'flight calls', 'take-off calls', 'take-off call'],\n",
        "    'duet': ['duet', 'duet song', 'duet call', 'couple duet', 'song and duet', 'duetting'],\n",
        "    'drum': ['drum', 'drumming', 'bill snap', 'bill snapping', 'wing beat', 'wing flaps', 'wing noise', 'wing flutter', 'wing flutters', 'wing sounds', 'wing whirr', 'wing whirrs', 'wing snaps', 'bill/wing snapping'],\n",
        "    'subsong': ['subsong', 'subsong?', '\"subsong\"'],\n",
        "    'trill': ['trill', 'trilled call', 'trill call', 'cooing trill'],\n",
        "    'display': ['display', 'display song', 'display call', 'song during display flight', 'display song & instrumental wings noise'],\n",
        "}\n"
      ],
      "metadata": {
        "id": "TDuSAy7nJndg"
      },
      "execution_count": 16,
      "outputs": []
    },
    {
      "cell_type": "code",
      "source": [
        "import re\n",
        "\n",
        "unique_labels = []\n",
        "\n",
        "song_labels = train_df['type'].unique().tolist()\n",
        "\n",
        "\n",
        "for x in song_labels:\n",
        "  results = re.findall(r\"'([^']*)'\", x)\n",
        "  for result in results:\n",
        "    if result not in unique_labels:\n",
        "      unique_labels.append(result)\n",
        "\n",
        "print(unique_labels)\n",
        "print(len(unique_labels))"
      ],
      "metadata": {
        "colab": {
          "base_uri": "https://localhost:8080/"
        },
        "id": "iFwdmw88UIZC",
        "outputId": "63d043c3-0786-4e4d-a03c-204108b37f70"
      },
      "execution_count": 11,
      "outputs": [
        {
          "output_type": "stream",
          "name": "stdout",
          "text": [
            "['', 'advertisement call', 'territorial call', 'flight call', 'chorus', 'uncertain', 'call', 'agressive call', 'song', 'alarm call', 'calls', 'flight calls', 'call (in flight)', 'song while displaying', 'begging call', 'young calling from the nest', 'call in flight', 'feeding call', '3 indiv', 'alarm call?', 'hatchling or nestling', 'drumming', 'klee series', 'canto', 'splash', 'partial song', 'nocturnal flight call', 'subsong', 'immature male', 'chase call', 'day song', '(flight?) calls', 'take-off calls', 'canto de voo', 'chamado', 'duet', 'flight song', 'call and song in flight', 'calls on takling flight', 'estridulación', 'frogs', 'contact calls', 'llamado de cría', 'musical calls', 'aberrant', 'duet song. calls', 'excited call', 'alarm calls', 'agitated calls', 'canto longo variado', 'call (siren call)', 'dueto', 'anfibios', 'bill rattle', 'wing beats', 'songs', 'couple duet', 'song with several variations. all sounds made by wtst.', 'rattle', 'music in far back', 'plane', 'wing noise during jumps.', 'wing flutters', 'river in background', 'song?', 'display song', 'wing beat', 'song during display flight', 'canto agressivo', 'canto mateiro', 'canto rapido', 'tui tui', 'short song', 'wing whirrs', 'and song', 'loudsong', 'rattle calls', 'interaction calls', 'calls from group of 6', 'imitation', 'calls including imitation of micrastur semitorquatus', 'calls of group of 6-7', 'wing flaps', 'familly group', 'calls on perch', 'agitated calls and song', 'agitated flight calls', 'unusual call', 'juvenile calls', 'perched call', 'parvada', 'perched', 'wing noise', 'grunts', 'wing sound', 'strong breath', 'buff', 'batida de asas', 'batida de asas.', 'non-vocal', 'call? & wingbeats', 'wing sounds', 'aggressive call', 'wingflaps and grunt at 00:14', 'bater de asas', 'cortejo hasta la cópula', 'song a', 'dawn song', 'different calls', 'excited calls', 'agitated song', 'bill snaps', 'morning song', 'daytime calls', 'interaction call', 'two call types', 'trill call', 'quiet-singing while holding nesting material', 'canto/chamado', 'canto/briga', 'song (?)', 'down song', 'social', 'daytime call', 'interaction vocalization', 'dawn calls', 'songs a and b and calls', 'song b in duet and calls', 'duet?', 'call when flushed', 'disturbance calls by day', '?', 'guttural song', 'alarm whistles', 'guttural songs', 's', 'duet song', 'scolds', 'churr', 'calls pair', 'dawn duet', 'feeding and flight calls', 'contact? calls', 'take-off call', 'human voices', 'car noises', 'distress calls of a mist-netted bird', 'calls of 2 fighting birds and song', 'alternate song', 'calls (2 types)', 'two types of', 'latidos de perro', 'motor.', 'batido de asas', 'roost', 'group singing', 'scold', 'alarm', 'conversational gobbling', 'song at dawn', 'display? song', 'bill or wing snaps', 'calls at a colony', 'take-off and flight calls', 'calls on taking flight', 'calls at roost', 'foraging pecks', 'perched calls', 'dúo', 'response to playback', 'full song', 'calls in flight', 'purr', '\"purweer song', 'short and long songs', 'frogs and insects', 'canto variado', 'rhinella marina', 'surf', 'no idea', 'call or song', 'juv. song', 'chamado/canto', 'song (duet) & call', 'call?', 'calls and drum of a pair', 'call and flight call', 'drum', 'pair', 'pecking', 'tapping', 'anxiety?', 'whing whirr', 'display calls', 'distress calls', 'wing rattle', 'mechanical', 'song and calls while displaying', 'display song with wing flutter', 'display call', 'dawn vocalisations', 'wing flutter', 'single call', 'display song & instruemntal wings noise', 'calls & distant display song', 'song and wing noise', 'sonido de alas', 'song with wing flutter', 'frog call', 'wing noise at take-off', '\"frog call', 'trill', 'asking for food', 'sex uncert', 'lek', 'song at lek', 'nv', 'calls at lek', 'calls/song', 'songs and calls at lek', 'feathers or wings sound may be display close lek space', 'alarm whistle', 'half song', 'gurgling call', 'whinny chorus', 'then song', 'calls. song.', 'communal murmuring of flock', 'communal murmuring', 'grunt', 'son', 'song in chorus', 'a sound that went on for minutes', 'a low machine like sound between the crackles', 'wind', 'low dry calls', 'aggression', 'conflict calls', 'croak call', 'cow', 'calls in flight.', 'alarm? call', 'song in flight', 'alarm calls?', 'morning call?', 'immature calls', 'daytime song', 'cooing trill', 'call at dawn', 'algumas  aves limículas  ao fundo vocalizando', 'couple song', 'parent and child', 'ship engine in the canal', 'grillo', 'voces humanas y música.', 'voces humanas', 'música', 'song or call', 'alarm and distress calls', 'river noise', 'bill snapping', 'smack', 'song in duet', 'calls of chicks', '\"havent heard this before in this sp\"', 'possibly f', 'otro', 'complete song', 'dusk song', '\"subsong', '\"\"subsong\"\"?\"', 'agitated calls of a pair', '\"alarm call (laugh)', 'laughing sound', 'laugh', 'duet.', 'duet call', 'calls at nest', 'chatter', 'song. and adult? call  & youngs calls', 'taps and calls', 'alarm churrr', 'agitated call', 'short call', '\"call', '\"\"chick-burrrr\"\" call.\"', 'short song type', 'long song', 'sonido de aleteo cuando levanta el vuelo', 'variación vocal evidente', 'donde puede entenderse como canto.', 'long and short song', 'calls of a male', 'calls of a pair', 'chase calls', 'interaction calls of birds picking at each other on a high tide roost.', 'typical call', 'nestling call', 'croaks and other calls while mating', 'sonido grupal', 'calls of 4 birds near nests', 'reclamo de suplica por alimento', 'flight chorus', '\"puttering trill and chiff call', 'single song', 'growl', 'calls and song', '\"(fast) alternate song', '\"(slow) alternate song', '\"(slow) alternate song\"', '(fast) alternate song', '(slow) alternate song', 'excited song', 'quiet calls', 'calls by presumed pair', 'distress call', 'supertrill', 'long son', 'distress call of a bird being handled.', 'whistles', '(alarm?) calls', 'alarm calls (?)', '\"\"drum\"\"\"', 'tk tk tk tk call', 'then in flight', 'calls pearched', 'nest call', 'song in flight display', 'call (perched)', 'excited calls in flight', 'juvenile?', 'song from perch', 'then take-off call', 'el r. magnirostris sobrevolaba la zona emitiendo un reclamo como de alarma o par', 'nuptial song', 'call series', 'begging calls', 'nupcial song', 'begging calls of 2 fledged juveniles', 'pair interaction calls', 'juvenile? call', 'chamadas de imaturo', 'song and calls in flight', 'background noise from the presence of humans', 'icterus', 'melanerpes and other bird', 'call on ground', 'feeding calls', 'hover scolds', 'alarm calls in flight', 'fight calls', 'hoots and trill', 'begging calls and wing flutter', 'duet of call and song', 'song and coo', 'chick learnig to call', 'gutural sound', 'single hoot', 'moan', 'moan cascade', 'alarm calls when flushed', 'lamento', 'chamdo', 'llamado-call', 'single calls', 'call (snarl)', 'canto distorcido.', 'immature song', 'alarm whistle call', 'call from mixed-species flock', 'scold by excited bird', 'call (or song?)', 'wing whirr', 'nest-associated', 'nest-defence', 'aggressive', 'appeasement? submissive?', 'morning chorus', 'contact and alarm calls', 'nesting birds in a rookery with large chicks', 'all manner of behavior: begging', 'mixture of threat and other calls at rookery', 'trilled call', '2 call types', 'various different calls', 'vocalização em perseguição intraespecífica', 'song 2', 'call/song', 'single-noted song', '\"daytime song', 'chatter call', 'contact call', 'dusk', 'threat call', '\"\"trill\"\" per pieplow.\"', 'my bowl', 'flush call', 'in nest', 'scold from ground', 'scold from ground and in flight', 'copulation-calls', 'alarm call in flight', 'calls from ground and in flight', 'reproductive call', 'tit-tit calls', 'possibly an alarm call', 'call of juvenile', 'immature', '\"\"subsong\"\"\"', 'reclamo de amanecer', 'duetting', 'chamado do filhote ao fundo.', 'two individuals', 'calls and song in flight', 'canto em voo', 'song (2 types)', 'wing-drum', 'vesper song', 'two-note call.', 'one-noted song', 'disturbance note or alarm call', 'song (variation)', 'song b', 'canto 2', 'llamado de temporada reproductiva', 'simple song', 'simple and complex songs', '\"song', 'song 2. \"\"atípico\"\".\"', 'evening song', 'variation calls', 'c', 'dawnsong', 'calls (variation)', 'variation song', 'piaya cayana', 'call and song in duet', 'alarm call (?)', 'flush and landing calls', 'triple call', 'llamado', 'threat calls', 'desconocido', 'chamados rascantes', 'juvenil? call', 'barking calls', 'song:', 'song or calls', 'display song (in flight)', 'hits', 'includes imitations of myiozetetes cayanensis', 'includes imitations of legatus leucophaius', 'pre-dawn calls', 'vesper calling', 'fight calls and sounds', 'canto al amanecer', 'gallos', 'perro ladrando', 'song and duet', 'churred call', 'human voices.', 'dogs', 'warm-up', 'sporadic call', 'individuo criado en laboratorio. sonido al momento de ser alimentado.', 'bird in h', 'begging c', 'long call', 'aberrant song?', 'furnarius rufus', 'patagienas maculosa', 'wingbeats as flushing', 'hiss', 'various calls', 'piscuis', '\"alarm call (rattle)', '(song)', 'agitation call', 'a short song or song-like call', 'song phrase', 'scold calls', 'snap', 'lek snaps', 'clicks', 'click', 'mechanic sound', 'mechanical sound (wings)', 'wings clapping', 'chasquidos de alas', 'repiqueteo con las alas', 'wing snaps', 'wing clap', 'male lek and female calls', 'wing clap at lek and calls', 'em leck', 'roll-snap', 'snort', 'whirr', 'bill/wing snapping', 'rattle at lek', 'males', 'lek song', 'calls of males at lek', 'males at a lek', 'calls at a lek', 'mechanical sounds', 'males at lek', 'calls and mechanical sounds while displaying', 'firecracker call', 'mechanical sound', 'mechanical wing sounds', 'wing snap', 'lekking', 'display', 'tamborilar', 'canto/tamborilar', 'mechanical sounds at lek', 'calls & wing snaps', '& wing snaps', 'mecanical sound', 'lek song and mechanical sound', 'wing fluttering', 'snapping sounds with the wings', 'wing-beats', 'machanical sounds', 'mechanical sounds while displaying', 'wing sounds and calls', 'canto e chamado', 'chasing call', 'songs of 2 birds', 'rolling song', '3 song types', 'typical song', '2 song types', 'churring song', 'different song type', 'human voice', 'atypical song', 'call variation', 'growl cooing', 'song variant', 'male song', 'wing flutter and alarm call', 'flushed male', 'billed snapping', 'grunting and wing flaps', 'nestling calls', 'autos en la ruta. cars in the route', '\"caracara calls', 'interaction calls in flight', 'moorning song', 'calls of 2 birds', 'predawn song', 'daytime duet calls', 'pre-dawn song', 'day-time song', 'urban noise', 'daytime duet', 'territorial call?', 'disturbed call', 'não', 'agitated song and call', 'trino calls', 'pasos en césped', 'tráfico lejano', 'fight screams', 'calling while mating', 'llamados?', 'chamado de voo', 'single call note', 'long interval song', 'song-like call and snarl of 2 birds', 'bill snap', '\"trisyllabic sueee calls', 'displaying', 'single note calls', 'mimicry call', 'song and call in the communal nest', 'mimicking', 'song in display', 'calls of flock', 'mimicry of southern lapwing it seems', 'mimicry/imitation', 'flight chase call', 'latido de perro.', 'followed by calls on perch.', 'calls perched']\n",
            "587\n"
          ]
        }
      ]
    },
    {
      "cell_type": "code",
      "source": [
        "#print(train_df['type'].unique())\n",
        "print(train_df['primary_label'].unique())\n",
        "print(len(train_df['primary_label'].unique()))"
      ],
      "metadata": {
        "colab": {
          "base_uri": "https://localhost:8080/"
        },
        "id": "72ASCbS_Ttef",
        "outputId": "d61c9b11-34de-426b-eda4-647a76389b57"
      },
      "execution_count": 6,
      "outputs": [
        {
          "output_type": "stream",
          "name": "stdout",
          "text": [
            "['1139490' '1192948' '1194042' '126247' '1346504' '134933' '135045'\n",
            " '1462711' '1462737' '1564122' '21038' '21116' '21211' '22333' '22973'\n",
            " '22976' '24272' '24292' '24322' '41663' '41778' '41970' '42007' '42087'\n",
            " '42113' '46010' '47067' '476537' '476538' '48124' '50186' '517119'\n",
            " '523060' '528041' '52884' '548639' '555086' '555142' '566513' '64862'\n",
            " '65336' '65344' '65349' '65373' '65419' '65448' '65547' '65962' '66016'\n",
            " '66531' '66578' '66893' '67082' '67252' '714022' '715170' '787625'\n",
            " '81930' '868458' '963335' 'amakin1' 'amekes' 'ampkin1' 'anhing' 'babwar'\n",
            " 'bafibi1' 'banana' 'baymac' 'bbwduc' 'bicwre1' 'bkcdon' 'bkmtou1'\n",
            " 'blbgra1' 'blbwre1' 'blcant4' 'blchaw1' 'blcjay1' 'blctit1' 'blhpar1'\n",
            " 'blkvul' 'bobfly1' 'bobher1' 'brtpar1' 'bubcur1' 'bubwre1' 'bucmot3'\n",
            " 'bugtan' 'butsal1' 'cargra1' 'cattyr' 'chbant1' 'chfmac1' 'cinbec1'\n",
            " 'cocher1' 'cocwoo1' 'colara1' 'colcha1' 'compau' 'compot1' 'cotfly1'\n",
            " 'crbtan1' 'crcwoo1' 'crebob1' 'cregua1' 'creoro1' 'eardov1' 'fotfly'\n",
            " 'gohman1' 'grasal4' 'grbhaw1' 'greani1' 'greegr' 'greibi1' 'grekis'\n",
            " 'grepot1' 'gretin1' 'grnkin' 'grysee1' 'gybmar' 'gycwor1' 'labter1'\n",
            " 'laufal1' 'leagre' 'linwoo1' 'littin1' 'mastit1' 'neocor' 'norscr1'\n",
            " 'olipic1' 'orcpar' 'palhor2' 'paltan1' 'pavpig2' 'piepuf1' 'pirfly1'\n",
            " 'piwtyr1' 'plbwoo1' 'plctan1' 'plukit1' 'purgal2' 'ragmac1' 'rebbla1'\n",
            " 'recwoo1' 'rinkin1' 'roahaw' 'rosspo1' 'royfly1' 'rtlhum' 'rubsee1'\n",
            " 'rufmot1' 'rugdov' 'rumfly1' 'ruther1' 'rutjac1' 'rutpuf1' 'saffin'\n",
            " 'sahpar1' 'savhaw1' 'secfly1' 'shghum1' 'shtfly1' 'smbani' 'snoegr'\n",
            " 'sobtyr1' 'socfly1' 'solsan' 'soulap1' 'spbwoo1' 'speowl1' 'spepar1'\n",
            " 'srwswa1' 'stbwoo2' 'strcuc1' 'strfly1' 'strher' 'strowl1' 'tbsfin1'\n",
            " 'thbeup1' 'thlsch3' 'trokin' 'tropar' 'trsowl' 'turvul' 'verfly'\n",
            " 'watjac1' 'wbwwre1' 'whbant1' 'whbman1' 'whfant1' 'whmtyr1' 'whtdov'\n",
            " 'whttro1' 'whwswa1' 'woosto' 'y00678' 'yebela1' 'yebfly1' 'yebsee1'\n",
            " 'yecspi2' 'yectyr1' 'yehbla2' 'yehcar1' 'yelori1' 'yeofly1' 'yercac1'\n",
            " 'ywcpar']\n",
            "206\n"
          ]
        }
      ]
    },
    {
      "cell_type": "code",
      "source": [
        "# Generated with gemini\n",
        "# Prompt: Create data loaders\n",
        "\n",
        "class BirdClefDataset(Dataset):\n",
        "    def __init__(self, df, target_dir, audio_transform=None):\n",
        "        self.df = df\n",
        "        self.target_dir = target_dir\n",
        "        self.audio_transform = audio_transform\n",
        "\n",
        "    def __len__(self):\n",
        "        return len(self.df)\n",
        "\n",
        "    def __getitem__(self, idx):\n",
        "        row = self.df.iloc[idx]\n",
        "        audio_path = os.path.join(self.target_dir, \"train_audio\", row[\"primary_label\"], row[\"filename\"])\n",
        "        try:\n",
        "          waveform, sample_rate = torchaudio.load(audio_path)\n",
        "        except:\n",
        "          print(f\"Error loading file {audio_path}\")\n",
        "          # Instead of returning None, return an empty tensor and a default label\n",
        "          waveform = torch.empty((0,))\n",
        "          label = \"unknown\"\n",
        "          return waveform, label\n",
        "\n",
        "        if self.audio_transform:\n",
        "            waveform = self.audio_transform(waveform)\n",
        "\n",
        "        label = row[\"primary_label\"]\n",
        "        return waveform, label\n",
        "\n",
        "train_dataset = BirdClefDataset(train_df, target_dir)\n",
        "train_loader = DataLoader(train_dataset, batch_size=BATCH_SIZE, shuffle=True)"
      ],
      "metadata": {
        "id": "8F2-ICshN9lH"
      },
      "execution_count": null,
      "outputs": []
    },
    {
      "cell_type": "code",
      "source": [
        "# Generated with gemini\n",
        "# prompt: Visualise one data sample as wave form\n",
        "\n",
        "sample = next(iter(train_loader))\n",
        "\n",
        "if sample is not None: # Check if the sample loaded correctly\n",
        "  waveform, label = sample[0][0], sample[1][0] # Access first audio and label\n",
        "\n",
        "  # Convert waveform to NumPy array if necessary\n",
        "  waveform = waveform.numpy()\n",
        "\n",
        "  # Plot the waveform\n",
        "  plt.figure(figsize=(12, 4))\n",
        "  librosa.display.waveshow(waveform, sr=32000)\n",
        "  plt.title(f\"Waveform of {label}\")\n",
        "  plt.xlabel(\"Time (s)\")\n",
        "  plt.ylabel(\"Amplitude\")\n",
        "  plt.show()\n",
        "else:\n",
        "  print(\"Sample could not be loaded. Check file paths and loading procedure.\")\n"
      ],
      "metadata": {
        "id": "1WLhw_c8Ot7B",
        "colab": {
          "base_uri": "https://localhost:8080/",
          "height": 1000
        },
        "outputId": "3c624b25-dcf8-4757-acea-53da5bb6a242"
      },
      "execution_count": null,
      "outputs": [
        {
          "output_type": "stream",
          "name": "stdout",
          "text": [
            "Error loading file /content/drive/MyDrive/birdclef-2025/train_audio/555086/555086/XC882687.ogg\n",
            "Error loading file /content/drive/MyDrive/birdclef-2025/train_audio/smbani/smbani/iNat371704.ogg\n",
            "Error loading file /content/drive/MyDrive/birdclef-2025/train_audio/greegr/greegr/XC290048.ogg\n",
            "Error loading file /content/drive/MyDrive/birdclef-2025/train_audio/gohman1/gohman1/XC119150.ogg\n",
            "Error loading file /content/drive/MyDrive/birdclef-2025/train_audio/wbwwre1/wbwwre1/XC242762.ogg\n",
            "Error loading file /content/drive/MyDrive/birdclef-2025/train_audio/socfly1/socfly1/XC793178.ogg\n",
            "Error loading file /content/drive/MyDrive/birdclef-2025/train_audio/smbani/smbani/iNat340600.ogg\n",
            "Error loading file /content/drive/MyDrive/birdclef-2025/train_audio/roahaw/roahaw/XC306862.ogg\n",
            "Error loading file /content/drive/MyDrive/birdclef-2025/train_audio/yeofly1/yeofly1/XC552803.ogg\n",
            "Error loading file /content/drive/MyDrive/birdclef-2025/train_audio/strcuc1/strcuc1/XC260419.ogg\n",
            "Error loading file /content/drive/MyDrive/birdclef-2025/train_audio/greegr/greegr/XC302352.ogg\n",
            "Error loading file /content/drive/MyDrive/birdclef-2025/train_audio/grekis/grekis/iNat556929.ogg\n",
            "Error loading file /content/drive/MyDrive/birdclef-2025/train_audio/compot1/compot1/iNat925732.ogg\n",
            "Error loading file /content/drive/MyDrive/birdclef-2025/train_audio/bobfly1/bobfly1/iNat1290703.ogg\n",
            "Error loading file /content/drive/MyDrive/birdclef-2025/train_audio/rutjac1/rutjac1/XC700796.ogg\n",
            "Error loading file /content/drive/MyDrive/birdclef-2025/train_audio/tropar/tropar/iNat1201127.ogg\n",
            "Error loading file /content/drive/MyDrive/birdclef-2025/train_audio/trokin/trokin/iNat343306.ogg\n",
            "Error loading file /content/drive/MyDrive/birdclef-2025/train_audio/bkmtou1/bkmtou1/XC117223.ogg\n",
            "Error loading file /content/drive/MyDrive/birdclef-2025/train_audio/pirfly1/pirfly1/XC139503.ogg\n",
            "Error loading file /content/drive/MyDrive/birdclef-2025/train_audio/littin1/littin1/XC494772.ogg\n",
            "Error loading file /content/drive/MyDrive/birdclef-2025/train_audio/greibi1/greibi1/XC896576.ogg\n",
            "Error loading file /content/drive/MyDrive/birdclef-2025/train_audio/solsan/solsan/iNat487024.ogg\n",
            "Error loading file /content/drive/MyDrive/birdclef-2025/train_audio/yeofly1/yeofly1/XC361117.ogg\n",
            "Error loading file /content/drive/MyDrive/birdclef-2025/train_audio/babwar/babwar/iNat1077837.ogg\n",
            "Error loading file /content/drive/MyDrive/birdclef-2025/train_audio/yebela1/yebela1/XC617645.ogg\n",
            "Error loading file /content/drive/MyDrive/birdclef-2025/train_audio/gycwor1/gycwor1/XC862021.ogg\n",
            "Error loading file /content/drive/MyDrive/birdclef-2025/train_audio/spbwoo1/spbwoo1/XC420375.ogg\n",
            "Error loading file /content/drive/MyDrive/birdclef-2025/train_audio/trsowl/trsowl/iNat314912.ogg\n",
            "Error loading file /content/drive/MyDrive/birdclef-2025/train_audio/orcpar/orcpar/XC46977.ogg\n",
            "Error loading file /content/drive/MyDrive/birdclef-2025/train_audio/gybmar/gybmar/XC461394.ogg\n",
            "Error loading file /content/drive/MyDrive/birdclef-2025/train_audio/saffin/saffin/XC366345.ogg\n",
            "Error loading file /content/drive/MyDrive/birdclef-2025/train_audio/whbman1/whbman1/XC794857.ogg\n"
          ]
        },
        {
          "output_type": "error",
          "ename": "ParameterError",
          "evalue": "Input is too short (n=0) for frame_length=1",
          "traceback": [
            "\u001b[0;31m---------------------------------------------------------------------------\u001b[0m",
            "\u001b[0;31mParameterError\u001b[0m                            Traceback (most recent call last)",
            "\u001b[0;32m<ipython-input-23-0d306a8acc0e>\u001b[0m in \u001b[0;36m<cell line: 0>\u001b[0;34m()\u001b[0m\n\u001b[1;32m     12\u001b[0m   \u001b[0;31m# Plot the waveform\u001b[0m\u001b[0;34m\u001b[0m\u001b[0;34m\u001b[0m\u001b[0m\n\u001b[1;32m     13\u001b[0m   \u001b[0mplt\u001b[0m\u001b[0;34m.\u001b[0m\u001b[0mfigure\u001b[0m\u001b[0;34m(\u001b[0m\u001b[0mfigsize\u001b[0m\u001b[0;34m=\u001b[0m\u001b[0;34m(\u001b[0m\u001b[0;36m12\u001b[0m\u001b[0;34m,\u001b[0m \u001b[0;36m4\u001b[0m\u001b[0;34m)\u001b[0m\u001b[0;34m)\u001b[0m\u001b[0;34m\u001b[0m\u001b[0;34m\u001b[0m\u001b[0m\n\u001b[0;32m---> 14\u001b[0;31m   \u001b[0mlibrosa\u001b[0m\u001b[0;34m.\u001b[0m\u001b[0mdisplay\u001b[0m\u001b[0;34m.\u001b[0m\u001b[0mwaveshow\u001b[0m\u001b[0;34m(\u001b[0m\u001b[0mwaveform\u001b[0m\u001b[0;34m,\u001b[0m \u001b[0msr\u001b[0m\u001b[0;34m=\u001b[0m\u001b[0;36m32000\u001b[0m\u001b[0;34m)\u001b[0m\u001b[0;34m\u001b[0m\u001b[0;34m\u001b[0m\u001b[0m\n\u001b[0m\u001b[1;32m     15\u001b[0m   \u001b[0mplt\u001b[0m\u001b[0;34m.\u001b[0m\u001b[0mtitle\u001b[0m\u001b[0;34m(\u001b[0m\u001b[0;34mf\"Waveform of {label}\"\u001b[0m\u001b[0;34m)\u001b[0m\u001b[0;34m\u001b[0m\u001b[0;34m\u001b[0m\u001b[0m\n\u001b[1;32m     16\u001b[0m   \u001b[0mplt\u001b[0m\u001b[0;34m.\u001b[0m\u001b[0mxlabel\u001b[0m\u001b[0;34m(\u001b[0m\u001b[0;34m\"Time (s)\"\u001b[0m\u001b[0;34m)\u001b[0m\u001b[0;34m\u001b[0m\u001b[0;34m\u001b[0m\u001b[0m\n",
            "\u001b[0;32m/usr/local/lib/python3.11/dist-packages/librosa/display.py\u001b[0m in \u001b[0;36mwaveshow\u001b[0;34m(y, sr, max_points, axis, offset, marker, where, label, transpose, ax, x_axis, **kwargs)\u001b[0m\n\u001b[1;32m   2050\u001b[0m     \u001b[0;31m# this choice of hop ensures that the envelope has at most max_points values\u001b[0m\u001b[0;34m\u001b[0m\u001b[0;34m\u001b[0m\u001b[0m\n\u001b[1;32m   2051\u001b[0m     \u001b[0mhop_length\u001b[0m \u001b[0;34m=\u001b[0m \u001b[0mmax\u001b[0m\u001b[0;34m(\u001b[0m\u001b[0;36m1\u001b[0m\u001b[0;34m,\u001b[0m \u001b[0my\u001b[0m\u001b[0;34m.\u001b[0m\u001b[0mshape\u001b[0m\u001b[0;34m[\u001b[0m\u001b[0;34m-\u001b[0m\u001b[0;36m1\u001b[0m\u001b[0;34m]\u001b[0m \u001b[0;34m//\u001b[0m \u001b[0mmax_points\u001b[0m\u001b[0;34m)\u001b[0m\u001b[0;34m\u001b[0m\u001b[0;34m\u001b[0m\u001b[0m\n\u001b[0;32m-> 2052\u001b[0;31m     \u001b[0my_env\u001b[0m \u001b[0;34m=\u001b[0m \u001b[0m__envelope\u001b[0m\u001b[0;34m(\u001b[0m\u001b[0my\u001b[0m\u001b[0;34m,\u001b[0m \u001b[0mhop_length\u001b[0m\u001b[0;34m)\u001b[0m\u001b[0;34m\u001b[0m\u001b[0;34m\u001b[0m\u001b[0m\n\u001b[0m\u001b[1;32m   2053\u001b[0m \u001b[0;34m\u001b[0m\u001b[0m\n\u001b[1;32m   2054\u001b[0m     \u001b[0;31m# Split the envelope into top and bottom\u001b[0m\u001b[0;34m\u001b[0m\u001b[0;34m\u001b[0m\u001b[0m\n",
            "\u001b[0;32m/usr/local/lib/python3.11/dist-packages/librosa/display.py\u001b[0m in \u001b[0;36m__envelope\u001b[0;34m(x, hop)\u001b[0m\n\u001b[1;32m    867\u001b[0m     \u001b[0mx\u001b[0m \u001b[0;32mis\u001b[0m \u001b[0massumed\u001b[0m \u001b[0mto\u001b[0m \u001b[0mbe\u001b[0m \u001b[0mmulti\u001b[0m\u001b[0;34m-\u001b[0m\u001b[0mchannel\u001b[0m\u001b[0;34m,\u001b[0m \u001b[0mof\u001b[0m \u001b[0mshape\u001b[0m \u001b[0;34m(\u001b[0m\u001b[0mn_channels\u001b[0m\u001b[0;34m,\u001b[0m \u001b[0mn_samples\u001b[0m\u001b[0;34m)\u001b[0m\u001b[0;34m.\u001b[0m\u001b[0;34m\u001b[0m\u001b[0;34m\u001b[0m\u001b[0m\n\u001b[1;32m    868\u001b[0m     \"\"\"\n\u001b[0;32m--> 869\u001b[0;31m     \u001b[0mx_frame\u001b[0m \u001b[0;34m=\u001b[0m \u001b[0mnp\u001b[0m\u001b[0;34m.\u001b[0m\u001b[0mabs\u001b[0m\u001b[0;34m(\u001b[0m\u001b[0mutil\u001b[0m\u001b[0;34m.\u001b[0m\u001b[0mframe\u001b[0m\u001b[0;34m(\u001b[0m\u001b[0mx\u001b[0m\u001b[0;34m,\u001b[0m \u001b[0mframe_length\u001b[0m\u001b[0;34m=\u001b[0m\u001b[0mhop\u001b[0m\u001b[0;34m,\u001b[0m \u001b[0mhop_length\u001b[0m\u001b[0;34m=\u001b[0m\u001b[0mhop\u001b[0m\u001b[0;34m)\u001b[0m\u001b[0;34m)\u001b[0m\u001b[0;34m\u001b[0m\u001b[0;34m\u001b[0m\u001b[0m\n\u001b[0m\u001b[1;32m    870\u001b[0m     \u001b[0;32mreturn\u001b[0m \u001b[0mx_frame\u001b[0m\u001b[0;34m.\u001b[0m\u001b[0mmax\u001b[0m\u001b[0;34m(\u001b[0m\u001b[0maxis\u001b[0m\u001b[0;34m=\u001b[0m\u001b[0;36m1\u001b[0m\u001b[0;34m)\u001b[0m\u001b[0;34m\u001b[0m\u001b[0;34m\u001b[0m\u001b[0m\n\u001b[1;32m    871\u001b[0m \u001b[0;34m\u001b[0m\u001b[0m\n",
            "\u001b[0;32m/usr/local/lib/python3.11/dist-packages/librosa/util/utils.py\u001b[0m in \u001b[0;36mframe\u001b[0;34m(x, frame_length, hop_length, axis, writeable, subok)\u001b[0m\n\u001b[1;32m    203\u001b[0m \u001b[0;34m\u001b[0m\u001b[0m\n\u001b[1;32m    204\u001b[0m     \u001b[0;32mif\u001b[0m \u001b[0mx\u001b[0m\u001b[0;34m.\u001b[0m\u001b[0mshape\u001b[0m\u001b[0;34m[\u001b[0m\u001b[0maxis\u001b[0m\u001b[0;34m]\u001b[0m \u001b[0;34m<\u001b[0m \u001b[0mframe_length\u001b[0m\u001b[0;34m:\u001b[0m\u001b[0;34m\u001b[0m\u001b[0;34m\u001b[0m\u001b[0m\n\u001b[0;32m--> 205\u001b[0;31m         raise ParameterError(\n\u001b[0m\u001b[1;32m    206\u001b[0m             \u001b[0;34mf\"Input is too short (n={x.shape[axis]:d}) for frame_length={frame_length:d}\"\u001b[0m\u001b[0;34m\u001b[0m\u001b[0;34m\u001b[0m\u001b[0m\n\u001b[1;32m    207\u001b[0m         )\n",
            "\u001b[0;31mParameterError\u001b[0m: Input is too short (n=0) for frame_length=1"
          ]
        },
        {
          "output_type": "display_data",
          "data": {
            "text/plain": [
              "<Figure size 1200x400 with 1 Axes>"
            ],
            "image/png": "[encoded data removed]"
          },
          "metadata": {}
        }
      ]
    },
    {
      "cell_type": "code",
      "source": [
        "# Generated with Gemini\n",
        "# prompt: Visualise one data sample as Mel spectrogram\n",
        "\n",
        "import librosa\n",
        "import librosa.display\n",
        "import matplotlib.pyplot as plt\n",
        "\n",
        "# Assuming 'waveform' and 'label' are defined from the previous code\n",
        "\n",
        "if sample is not None:\n",
        "  waveform, label = sample[0][0], sample[1][0]\n",
        "  waveform = waveform.numpy()\n",
        "\n",
        "  # Calculate the mel spectrogram\n",
        "  mel_spec = librosa.feature.melspectrogram(y=waveform, sr=SAMPLE_RATE, n_mels=128)\n",
        "  mel_spec_db = librosa.power_to_db(mel_spec, ref=np.max)\n",
        "\n",
        "  # Display the mel spectrogram\n",
        "  plt.figure(figsize=(10, 4))\n",
        "  librosa.display.specshow(mel_spec_db, sr=SAMPLE_RATE, x_axis='time', y_axis='mel')\n",
        "  plt.colorbar(format='%+2.0f dB')\n",
        "  plt.title(f'Mel Spectrogram of {label}')\n",
        "  plt.tight_layout()\n",
        "  plt.show()\n",
        "else:\n",
        "  print(\"Sample could not be loaded. Check file paths and loading procedure.\")\n"
      ],
      "metadata": {
        "id": "ejw8zJ0JP1aO"
      },
      "execution_count": null,
      "outputs": []
    },
    {
      "cell_type": "markdown",
      "source": [
        "# Neural network\n"
      ],
      "metadata": {
        "id": "o2MRfPq-MXJ-"
      }
    },
    {
      "cell_type": "code",
      "source": [
        "# Example NN from GPT\n",
        "\n",
        "class BirdSongClassifier(nn.Module):\n",
        "    def __init__(self, num_species, num_song_types):\n",
        "        super(BirdSongClassifier, self).__init__()\n",
        "\n",
        "        # Convolutional backbone (simple CNN for now)\n",
        "        self.features = nn.Sequential(\n",
        "            nn.Conv2d(1, 16, kernel_size=3, padding=1),\n",
        "            nn.BatchNorm2d(16),\n",
        "            nn.ReLU(),\n",
        "            nn.MaxPool2d(2),  # 1/2 size\n",
        "\n",
        "            nn.Conv2d(16, 32, kernel_size=3, padding=1),\n",
        "            nn.BatchNorm2d(32),\n",
        "            nn.ReLU(),\n",
        "            nn.MaxPool2d(2),\n",
        "\n",
        "            nn.Conv2d(32, 64, kernel_size=3, padding=1),\n",
        "            nn.BatchNorm2d(64),\n",
        "            nn.ReLU(),\n",
        "            nn.AdaptiveAvgPool2d((1, 1))  # Output shape: [batch, 64, 1, 1]\n",
        "        )\n",
        "\n",
        "        # Shared feature layer\n",
        "        self.shared_fc = nn.Linear(64, 128)\n",
        "\n",
        "        # Output heads\n",
        "        self.species_head = nn.Linear(128, num_species)\n",
        "        self.song_type_head = nn.Linear(128, num_song_types)\n",
        "\n",
        "    def forward(self, x):\n",
        "        x = self.features(x)            # [B, 64, 1, 1]\n",
        "        x = x.view(x.size(0), -1)       # [B, 64]\n",
        "        x = F.relu(self.shared_fc(x))   # [B, 128]\n",
        "\n",
        "        species_logits = self.species_head(x)\n",
        "        song_type_logits = self.song_type_head(x)\n",
        "\n",
        "        return species_logits, song_type_logits\n"
      ],
      "metadata": {
        "id": "luFKSz6jMZbw"
      },
      "execution_count": null,
      "outputs": []
    }
  ]
}